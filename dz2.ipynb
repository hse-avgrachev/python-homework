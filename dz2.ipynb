{
 "cells": [
  {
   "cell_type": "code",
   "execution_count": null,
   "metadata": {},
   "outputs": [],
   "source": [
    "# ДЗ_2 ЗАДАНИЕ_1\n",
    "''' \n",
    "TODO: написать программу, которая выводит среднюю букву (длина нечетная) или две средних буквы (длина четная)\n",
    "'''\n",
    "\n",
    "current_word = input() # ввод слова\n",
    "\n",
    "# целочисленное деление всегда округляет вниз 5 // 2 = 2 (средний индекс) или 4 // 2 = 2(нужно еще предыдущий индекс)\n",
    "len_word = len(current_word)\n",
    "middle_char = current_word[len_word // 2 - int(len_word % 2 == 0):len_word // 2 + 1]\n",
    "\n",
    "print(middle_char)"
   ]
  },
  {
   "cell_type": "code",
   "execution_count": null,
   "metadata": {},
   "outputs": [],
   "source": [
    "# ДЗ_2 ЗАДАНИЕ_1 (менее нагруженный способ)\n",
    "\n",
    "current_word = input()\n",
    "\n",
    "len_word = len(current_word)\n",
    "middle_char = ''\n",
    "if (len_word % 2 == 0):\n",
    "\tmiddle_char = current_word[len_word // 2 - 1: len_word // 2 + 1]\n",
    "else:\n",
    "\tmiddle_char = current_word[len_word // 2]\n",
    "\n",
    "print(middle_char)"
   ]
  },
  {
   "cell_type": "code",
   "execution_count": null,
   "metadata": {},
   "outputs": [],
   "source": [
    "# ДЗ_2 ЗАДАНИЕ_2\n",
    "# TODO: mvp dating-сервиса; идеальные пары - b и g, стоящие на одинаковых местах после сортировки по алфавиту; если кто-то может остаться без пары, то не знакомим\n",
    "\n",
    "def get_persons():\n",
    "\treturn ['Peter', 'Alex', 'John', 'Arthur', 'Richard'], ['Kate', 'Liza', 'Kira', 'Emma', 'Trisha'] # первый список - boys; второй - girls\n",
    "\n",
    "boys, girls = get_persons()\n",
    "\n",
    "if len(boys) != len(girls): print('Внимание, кто-то может остаться без пары')\n",
    "else:\n",
    "\tboys.sort(); girls.sort() # sort автоматически сортирует по алфавиту\n",
    "\tdating_pairs = [f'{boys[i]} и {girls[i]}' for i in range(len(boys))]\n",
    "\tprint('Идеальные пары:')\n",
    "\tfor d in dating_pairs: print(d)\n",
    "\n"
   ]
  }
 ],
 "metadata": {
  "language_info": {
   "name": "python"
  }
 },
 "nbformat": 4,
 "nbformat_minor": 2
}
