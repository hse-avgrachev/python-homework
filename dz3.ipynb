{
 "cells": [
  {
   "cell_type": "code",
   "execution_count": null,
   "metadata": {},
   "outputs": [],
   "source": [
    "# ДЗ_3 ЗАДАНИЕ 1\n",
    "\n",
    "items = {\n",
    "'milk15':{'name': 'молоко 1.5%', 'count': 34, 'price': 89.9},\n",
    "'cheese':{'name': 'сыр молочный 1 кг.', 'count': 12, 'price': 990.9},\n",
    "'sausage':{'name': 'колбаса 1 кг.', 'count': 122, 'price': 1990.9}\n",
    "}\n",
    "\n",
    "\n",
    "price_less_20 = {key:value['count'] < 20 for (key,value) in items.items()}\n",
    "# еще можно без .items(): price_less_20 = {x:items[x]['count'] < 20 for x in items}\n",
    "print(price_less_20)"
   ]
  }
 ],
 "metadata": {
  "language_info": {
   "name": "python"
  }
 },
 "nbformat": 4,
 "nbformat_minor": 2
}
