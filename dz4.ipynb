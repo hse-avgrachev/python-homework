{
 "cells": [
  {
   "cell_type": "code",
   "execution_count": 7,
   "metadata": {},
   "outputs": [
    {
     "name": "stdout",
     "output_type": "stream",
     "text": [
      "владелец документа: NotFound\n",
      "владелец документа: Аристарх Павлов\n",
      "документ хранится на полке: NotFound\n",
      "НЕВЕРНАЯ КОМАНДА\n",
      "документ хранится на полке: 2\n",
      "документ хранится на полке: NotFound\n",
      "документ хранится на полке: NotFound\n",
      "ЗАВЕРШЕНИЕ РАБОТЫ...\n",
      "ВСЕГО ДОБРОГО!\n"
     ]
    }
   ],
   "source": [
    "# ГЛОБАЛЬНЫЕ ПЕРЕМЕННЫЕ\n",
    "documents = [{'type': 'passport', 'number': '2207 876234', 'name': 'Василий Гупкин'}, {'type': 'invoice',\n",
    "                                                                                       'number': '11-2', 'name': 'Геннадий Покемонов'}, {'type': 'insurance', 'number': '10006', 'name': 'Аристарх Павлов'}]\n",
    "\n",
    "directories = {\n",
    "    '1': ['2207 876234', '11-2'],\n",
    "    '2': ['10006'],\n",
    "    '3': []\n",
    "}\n",
    "\n",
    "\n",
    "# ФУНКЦИИ ДЛЯ ЗАДАЧИ 1: Пользователь по команде p может узнать владельца документа по его номеру.\n",
    "\n",
    "def get_owner_by_number(number):\n",
    "    # возвращает имя владельца по номеру договора\n",
    "    for doc in documents:\n",
    "        if doc['number'] == number:\n",
    "            return doc['name']\n",
    "\n",
    "    return 'NotFound'\n",
    "\n",
    "\n",
    "def p():\n",
    "    # выполнение команды p\n",
    "    print('владелец документа:', get_owner_by_number(input('введите номер договора: ')))\n",
    "\n",
    "\n",
    "# ФУНКЦИИ ДЛЯ ЗАДАЧИ 2: Секретарь по команде s может по номеру документа узнать, на какой полке документ хранится.\n",
    "\n",
    "def get_floor_by_document_number(number):\n",
    "    for floor, arr in directories.items():\n",
    "        if number in arr:\n",
    "            return floor\n",
    "\n",
    "    return 'NotFound'\n",
    "\n",
    "\n",
    "def s():\n",
    "    # выполнение команды s\n",
    "    print('документ хранится на полке:',get_floor_by_document_number(input('введите номер договора: ')))\n",
    "\n",
    "\n",
    "# ОСНОВНОЙ БЛОК КОДА -- ВВОД КОМАНД\n",
    "while True:\n",
    "    current_command = input('введите команду: ')\n",
    "\n",
    "    match(current_command):\n",
    "        case('q'): print('ЗАВЕРШЕНИЕ РАБОТЫ...'); break  # завершение работы\n",
    "        case('p'): p()  # выполнить команду p\n",
    "        case('s'): s()  # выполнить команду s\n",
    "        case _: print('НЕВЕРНАЯ КОМАНДА')\n",
    "\n",
    "print('ВСЕГО ДОБРОГО!')"
   ]
  }
 ],
 "metadata": {
  "kernelspec": {
   "display_name": "Python 3",
   "language": "python",
   "name": "python3"
  },
  "language_info": {
   "codemirror_mode": {
    "name": "ipython",
    "version": 3
   },
   "file_extension": ".py",
   "mimetype": "text/x-python",
   "name": "python",
   "nbconvert_exporter": "python",
   "pygments_lexer": "ipython3",
   "version": "3.12.1"
  }
 },
 "nbformat": 4,
 "nbformat_minor": 2
}
