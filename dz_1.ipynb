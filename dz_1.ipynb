{
 "cells": [
  {
   "cell_type": "code",
   "execution_count": null,
   "metadata": {},
   "outputs": [],
   "source": [
    "# ДЗ_1 задание №1\n",
    "# TODO: написать программу, которая определяет високосность года; True - Високосный год False - Обычный год\n",
    "\n",
    "\n",
    "# определяет високосный ли год\n",
    "def is_leap(year):\n",
    "\tif year % 4 == 0:\n",
    "\t\tif year % 100 == 0:\n",
    "\t\t\tif year % 400 == 0:\n",
    "\t\t\t\treturn True\n",
    "\t\t\treturn False\n",
    "\t\treturn True\n",
    "\treturn False\n",
    "\n",
    "# входные данные\n",
    "curr_year = int(input()) # без проверки на дурака\n",
    "\n",
    "# вычисление ответа\n",
    "answer = 'Високосный год' if is_leap(curr_year) else 'Обычный год'\n",
    "\n",
    "# вывод ответа\n",
    "print(answer)"
   ]
  },
  {
   "cell_type": "code",
   "execution_count": null,
   "metadata": {},
   "outputs": [],
   "source": [
    "# ДЗ_1 задание №2\n",
    "# TODO: по 6-значному числу определить счастливость билета: True - Счастливый билет False - Несчастливый билет\n",
    "\n",
    "\n",
    "# возвращает сумму цифр\n",
    "def get_sum_digits(num):\n",
    "\tsum = 0\n",
    "\twhile num > 0:\n",
    "\t\tsum += num % 10\n",
    "\t\tnum //= 10\n",
    "\n",
    "\treturn sum\n",
    "\n",
    "# определяет счастливость билета\n",
    "def is_happy(ticket):\n",
    "\tfirst_half, second_half = ticket // 1000, ticket % 1000\n",
    "\treturn get_sum_digits(first_half) == get_sum_digits(second_half)\n",
    "\n",
    "\n",
    "# входные данные\n",
    "curr_ticket = int(input()) # без проверки на дурака\n",
    "\n",
    "# вычисление\n",
    "answer = \"Счастливый билет\" if is_happy(curr_ticket) else \"Несчастливый билет\"\n",
    "\n",
    "# ответ\n",
    "print(answer)"
   ]
  }
 ],
 "metadata": {
  "language_info": {
   "name": "python"
  }
 },
 "nbformat": 4,
 "nbformat_minor": 2
}
