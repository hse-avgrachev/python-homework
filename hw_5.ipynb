{
 "cells": [
  {
   "cell_type": "code",
   "execution_count": null,
   "metadata": {},
   "outputs": [],
   "source": [
    "from datetime import datetime as dt\n",
    "\n",
    "\n",
    "# допустимые форматы\n",
    "format_tuple = (\"%A, %B %d, %Y\", \"%A, %d.%m.%y\", \"%A, %d %B %Y\")\n",
    "# текст для ввода\n",
    "input_text = 'ВНИМАНИЕ: для завершения введите Q/q\\nвведите дату: '\n",
    "\n",
    "curr_strdate = input(input_text)\n",
    "while curr_strdate.lower() != 'q':\n",
    "    for curr_format in format_tuple:\n",
    "        try:\n",
    "            curr_datetime = dt.strptime(curr_strdate, curr_format)\n",
    "            print(curr_datetime)\n",
    "            break\n",
    "        except:\n",
    "            continue\n",
    "    curr_strdate = input(input_text)"
   ]
  }
 ],
 "metadata": {
  "kernelspec": {
   "display_name": "Python 3",
   "language": "python",
   "name": "python3"
  },
  "language_info": {
   "codemirror_mode": {
    "name": "ipython",
    "version": 3
   },
   "file_extension": ".py",
   "mimetype": "text/x-python",
   "name": "python",
   "nbconvert_exporter": "python",
   "pygments_lexer": "ipython3",
   "version": "3.11.2"
  }
 },
 "nbformat": 4,
 "nbformat_minor": 2
}
