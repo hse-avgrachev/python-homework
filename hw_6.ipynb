{
 "cells": [
  {
   "cell_type": "code",
   "execution_count": null,
   "metadata": {},
   "outputs": [
    {
     "name": "stdout",
     "output_type": "stream",
     "text": [
      "user_id,source,category\n",
      "6450655ae8,other\n",
      "b4ea53e670,other\n",
      "0,other\n",
      "96064ae9e0,other\n",
      "e1bd168161,context\n",
      "71bcf169b4,other\n",
      "e0aee73c5d,other\n",
      "1f8845e157,context\n",
      "78d22c5c78,other\n",
      "dd85040770,other\n",
      "2301051b25,other\n",
      "86835b81ac,context\n",
      "90d9a575a2,other\n",
      "1b75c4f23f,other\n",
      "d94b908660,None\n",
      "f697206af5,other\n",
      "8a9a2de36e,other\n",
      "dd3d43c266,context\n",
      "f6401d302f,context\n",
      "b18d58560b,email\n",
      "ed79586589,other\n",
      "1840e0b9d4,other,Продукты\n",
      "b4afdc5ccc,other\n",
      "470248aabf,other\n",
      "948d9be43c,other\n",
      "03592d16ac,other\n",
      "8554e1a9f9,context\n",
      "ceda3a4603,other\n",
      "282d7418ae,context\n"
     ]
    }
   ],
   "source": [
    "import json\n",
    "\n",
    "# константы\n",
    "PURCHASE_PATH = 'purchase_log.txt'\n",
    "VISIT_PATH = 'visit_log.csv'\n",
    "FUNNEL_PATH = 'funnel.csv'\n",
    "ENC = 'utf-8'\n",
    "\n",
    "purchase_dict = {}\n",
    "with open(PURCHASE_PATH, encoding=ENC) as f:\n",
    "    for line in f:\n",
    "        line = line.strip()\n",
    "        line_dict = json.loads(line)\n",
    "        key = line_dict['user_id']\n",
    "        value = line_dict['category']\n",
    "        purchase_dict[key] = value\n",
    "\n",
    "\n",
    "with open(VISIT_PATH, 'r', encoding=ENC) as fin, open(FUNNEL_PATH, 'w', encoding=ENC) as fout:\n",
    "    for row in fin:\n",
    "        line_list = row.strip().split(',')\n",
    "        if line_list[0] in purchase_dict.keys():\n",
    "            line_list.append(purchase_dict[line_list[0]])\n",
    "            add_line = ','.join(line_list)\n",
    "        elif line_list[0] == 'user_id':\n",
    "            line_list.append('category')\n",
    "            add_line = ','.join(line_list)\n",
    "        else:\n",
    "            add_line = ','.join(line_list)\n",
    "        fout.write(add_line+'\\n')\n",
    "\n",
    "# вывод первых 30 строк\n",
    "# для примера: 1840e0b9d4,other,Продукты\n",
    "with open(FUNNEL_PATH, 'r', encoding=ENC) as f:\n",
    "    for _ in range(30):\n",
    "        print(f.readline().strip())"
   ]
  }
 ],
 "metadata": {
  "kernelspec": {
   "display_name": "Python 3",
   "language": "python",
   "name": "python3"
  },
  "language_info": {
   "codemirror_mode": {
    "name": "ipython",
    "version": 3
   },
   "file_extension": ".py",
   "mimetype": "text/x-python",
   "name": "python",
   "nbconvert_exporter": "python",
   "pygments_lexer": "ipython3",
   "version": "3.11.2"
  }
 },
 "nbformat": 4,
 "nbformat_minor": 2
}
